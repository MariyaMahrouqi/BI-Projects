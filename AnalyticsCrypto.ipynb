{
 "cells": [
  {
   "cell_type": "markdown",
   "id": "cb6fc1fc-c44f-4cf2-be7b-ba001bf3dc2a",
   "metadata": {},
   "source": [
    "### Step 1:Import Necessary libraries\n"
   ]
  },
  {
   "cell_type": "code",
   "execution_count": 3,
   "id": "2fae2283-f2a7-46b3-a0f2-08572afcdb3b",
   "metadata": {},
   "outputs": [],
   "source": [
    "import pandas as pd # data transformation\n",
    "import requests # establishing connection with api"
   ]
  },
  {
   "cell_type": "code",
   "execution_count": 5,
   "id": "67bab618-9f6e-49dc-816e-0537f6f4dd61",
   "metadata": {},
   "outputs": [],
   "source": [
    "url = \"https://api.coincap.io/v2/assets\""
   ]
  },
  {
   "cell_type": "code",
   "execution_count": 7,
   "id": "1aa000ad-26dc-4368-9638-b5d9d066c3d3",
   "metadata": {},
   "outputs": [
    {
     "name": "stdout",
     "output_type": "stream",
     "text": [
      "<Response [200]>\n"
     ]
    }
   ],
   "source": [
    "response = requests.get(url)\n",
    "print(response)"
   ]
  },
  {
   "cell_type": "code",
   "execution_count": 9,
   "id": "87e2e3cb-fe54-4218-9bd0-51208e6cc08f",
   "metadata": {},
   "outputs": [],
   "source": [
    "responsedata = response.json()"
   ]
  },
  {
   "cell_type": "markdown",
   "id": "a5c14812-cd06-4356-a0c7-2984cb385c53",
   "metadata": {},
   "source": [
    "### Step 2: Transformation (Restructuring and data cleaning)"
   ]
  },
  {
   "cell_type": "code",
   "execution_count": 24,
   "id": "b6602586-f7d1-421f-8900-72bb6caf5e88",
   "metadata": {},
   "outputs": [
    {
     "data": {
      "text/html": [
       "<div>\n",
       "<style scoped>\n",
       "    .dataframe tbody tr th:only-of-type {\n",
       "        vertical-align: middle;\n",
       "    }\n",
       "\n",
       "    .dataframe tbody tr th {\n",
       "        vertical-align: top;\n",
       "    }\n",
       "\n",
       "    .dataframe thead th {\n",
       "        text-align: right;\n",
       "    }\n",
       "</style>\n",
       "<table border=\"1\" class=\"dataframe\">\n",
       "  <thead>\n",
       "    <tr style=\"text-align: right;\">\n",
       "      <th></th>\n",
       "      <th>id</th>\n",
       "      <th>rank</th>\n",
       "      <th>symbol</th>\n",
       "      <th>name</th>\n",
       "      <th>supply</th>\n",
       "      <th>maxSupply</th>\n",
       "      <th>marketCapUsd</th>\n",
       "      <th>volumeUsd24Hr</th>\n",
       "      <th>priceUsd</th>\n",
       "      <th>changePercent24Hr</th>\n",
       "      <th>vwap24Hr</th>\n",
       "      <th>explorer</th>\n",
       "    </tr>\n",
       "  </thead>\n",
       "  <tbody>\n",
       "    <tr>\n",
       "      <th>0</th>\n",
       "      <td>bitcoin</td>\n",
       "      <td>1</td>\n",
       "      <td>BTC</td>\n",
       "      <td>Bitcoin</td>\n",
       "      <td>19789790.0000000000000000</td>\n",
       "      <td>21000000.0000000000000000</td>\n",
       "      <td>1918107665617.4110171691397030</td>\n",
       "      <td>8088558790.1120656630397257</td>\n",
       "      <td>96924.1040767694360157</td>\n",
       "      <td>-0.0336485625248823</td>\n",
       "      <td>96521.7062080357518180</td>\n",
       "      <td>https://blockchain.info/</td>\n",
       "    </tr>\n",
       "    <tr>\n",
       "      <th>1</th>\n",
       "      <td>ethereum</td>\n",
       "      <td>2</td>\n",
       "      <td>ETH</td>\n",
       "      <td>Ethereum</td>\n",
       "      <td>120441030.0471138800000000</td>\n",
       "      <td>None</td>\n",
       "      <td>447358119459.0753323370672002</td>\n",
       "      <td>8769765295.5120861531850128</td>\n",
       "      <td>3714.3332241851359336</td>\n",
       "      <td>0.2428603114673485</td>\n",
       "      <td>3690.1459120176927340</td>\n",
       "      <td>https://etherscan.io/</td>\n",
       "    </tr>\n",
       "    <tr>\n",
       "      <th>2</th>\n",
       "      <td>tether</td>\n",
       "      <td>3</td>\n",
       "      <td>USDT</td>\n",
       "      <td>Tether</td>\n",
       "      <td>134038109772.8574500000000000</td>\n",
       "      <td>None</td>\n",
       "      <td>134097205329.2146952440066421</td>\n",
       "      <td>28957499626.7397361555172317</td>\n",
       "      <td>1.0004408862259949</td>\n",
       "      <td>0.0441400664095415</td>\n",
       "      <td>1.0002405315975558</td>\n",
       "      <td>https://www.omniexplorer.info/asset/31</td>\n",
       "    </tr>\n",
       "    <tr>\n",
       "      <th>3</th>\n",
       "      <td>solana</td>\n",
       "      <td>4</td>\n",
       "      <td>SOL</td>\n",
       "      <td>Solana</td>\n",
       "      <td>475165164.8058069300000000</td>\n",
       "      <td>None</td>\n",
       "      <td>112424736342.3820352052048580</td>\n",
       "      <td>909998708.3242692478045062</td>\n",
       "      <td>236.6013855168199980</td>\n",
       "      <td>-3.3996121977480966</td>\n",
       "      <td>239.3427598921668055</td>\n",
       "      <td>https://explorer.solana.com/</td>\n",
       "    </tr>\n",
       "    <tr>\n",
       "      <th>4</th>\n",
       "      <td>binance-coin</td>\n",
       "      <td>5</td>\n",
       "      <td>BNB</td>\n",
       "      <td>BNB</td>\n",
       "      <td>166801148.0000000000000000</td>\n",
       "      <td>166801148.0000000000000000</td>\n",
       "      <td>108720186275.2552107524039008</td>\n",
       "      <td>430724398.3988768344077572</td>\n",
       "      <td>651.7951919327030696</td>\n",
       "      <td>-2.9760632980624742</td>\n",
       "      <td>656.5892441967516810</td>\n",
       "      <td>https://etherscan.io/token/0xB8c77482e45F1F44d...</td>\n",
       "    </tr>\n",
       "  </tbody>\n",
       "</table>\n",
       "</div>"
      ],
      "text/plain": [
       "             id rank symbol      name                         supply  \\\n",
       "0       bitcoin    1    BTC   Bitcoin      19789790.0000000000000000   \n",
       "1      ethereum    2    ETH  Ethereum     120441030.0471138800000000   \n",
       "2        tether    3   USDT    Tether  134038109772.8574500000000000   \n",
       "3        solana    4    SOL    Solana     475165164.8058069300000000   \n",
       "4  binance-coin    5    BNB       BNB     166801148.0000000000000000   \n",
       "\n",
       "                    maxSupply                    marketCapUsd  \\\n",
       "0   21000000.0000000000000000  1918107665617.4110171691397030   \n",
       "1                        None   447358119459.0753323370672002   \n",
       "2                        None   134097205329.2146952440066421   \n",
       "3                        None   112424736342.3820352052048580   \n",
       "4  166801148.0000000000000000   108720186275.2552107524039008   \n",
       "\n",
       "                  volumeUsd24Hr                priceUsd    changePercent24Hr  \\\n",
       "0   8088558790.1120656630397257  96924.1040767694360157  -0.0336485625248823   \n",
       "1   8769765295.5120861531850128   3714.3332241851359336   0.2428603114673485   \n",
       "2  28957499626.7397361555172317      1.0004408862259949   0.0441400664095415   \n",
       "3    909998708.3242692478045062    236.6013855168199980  -3.3996121977480966   \n",
       "4    430724398.3988768344077572    651.7951919327030696  -2.9760632980624742   \n",
       "\n",
       "                 vwap24Hr                                           explorer  \n",
       "0  96521.7062080357518180                           https://blockchain.info/  \n",
       "1   3690.1459120176927340                              https://etherscan.io/  \n",
       "2      1.0002405315975558             https://www.omniexplorer.info/asset/31  \n",
       "3    239.3427598921668055                       https://explorer.solana.com/  \n",
       "4    656.5892441967516810  https://etherscan.io/token/0xB8c77482e45F1F44d...  "
      ]
     },
     "execution_count": 24,
     "metadata": {},
     "output_type": "execute_result"
    }
   ],
   "source": [
    "data = pd.json_normalize(responsedata, \"data\")\n",
    "data.head()"
   ]
  },
  {
   "cell_type": "code",
   "execution_count": 30,
   "id": "0a301717-a228-4933-9d78-8c1d7d72416f",
   "metadata": {},
   "outputs": [
    {
     "name": "stdout",
     "output_type": "stream",
     "text": [
      "<class 'pandas.core.frame.DataFrame'>\n",
      "RangeIndex: 100 entries, 0 to 99\n",
      "Data columns (total 12 columns):\n",
      " #   Column             Non-Null Count  Dtype \n",
      "---  ------             --------------  ----- \n",
      " 0   id                 100 non-null    object\n",
      " 1   rank               100 non-null    object\n",
      " 2   symbol             100 non-null    object\n",
      " 3   name               100 non-null    object\n",
      " 4   supply             100 non-null    object\n",
      " 5   maxSupply          36 non-null     object\n",
      " 6   marketCapUsd       100 non-null    object\n",
      " 7   volumeUsd24Hr      100 non-null    object\n",
      " 8   priceUsd           100 non-null    object\n",
      " 9   changePercent24Hr  100 non-null    object\n",
      " 10  vwap24Hr           100 non-null    object\n",
      " 11  explorer           98 non-null     object\n",
      "dtypes: object(12)\n",
      "memory usage: 9.5+ KB\n"
     ]
    }
   ],
   "source": [
    "data.info() # full description of the dataset"
   ]
  },
  {
   "cell_type": "markdown",
   "id": "12ccb7e7-f628-48e4-9ed5-01d258f30a5f",
   "metadata": {},
   "source": [
    "### Step 3: convert categorical data into numerical data"
   ]
  },
  {
   "cell_type": "code",
   "execution_count": 33,
   "id": "c4f606cd-7c2a-4bfc-9eec-83c84695bf48",
   "metadata": {},
   "outputs": [],
   "source": [
    "def convert_columns_to_datatypes(df, column_datatype):\n",
    "    for column, datatype in column_datatypes.items():\n",
    "        if column in df.columns:\n",
    "            df[column] = df[column].astype(datatype)\n",
    "    return df     "
   ]
  },
  {
   "cell_type": "code",
   "execution_count": 44,
   "id": "4af5542a-a6e0-4eea-8223-e7f19f5f40a5",
   "metadata": {},
   "outputs": [],
   "source": [
    "column_datatypes = {\n",
    "    'rank': int,\n",
    "    'supply': float,\n",
    "    'maxSupply': float,\n",
    "    'marketCapUsd': float,\n",
    "    'volumeUsd24Hr': float,\n",
    "    'priceUsd': float,\n",
    "    'changePercent24Hr': float,\n",
    "    'vwap24Hr': float\n",
    "}\n",
    "\n",
    "data = convert_columns_to_datatypes(data, column_datatypes)"
   ]
  },
  {
   "cell_type": "code",
   "execution_count": 46,
   "id": "6e42fb2e-e6fb-4f7f-848d-3d59c099d08a",
   "metadata": {},
   "outputs": [
    {
     "name": "stdout",
     "output_type": "stream",
     "text": [
      "<class 'pandas.core.frame.DataFrame'>\n",
      "RangeIndex: 100 entries, 0 to 99\n",
      "Data columns (total 12 columns):\n",
      " #   Column             Non-Null Count  Dtype  \n",
      "---  ------             --------------  -----  \n",
      " 0   id                 100 non-null    object \n",
      " 1   rank               100 non-null    int32  \n",
      " 2   symbol             100 non-null    object \n",
      " 3   name               100 non-null    object \n",
      " 4   supply             100 non-null    float64\n",
      " 5   maxSupply          100 non-null    float64\n",
      " 6   marketCapUsd       100 non-null    float64\n",
      " 7   volumeUsd24Hr      100 non-null    float64\n",
      " 8   priceUsd           100 non-null    float64\n",
      " 9   changePercent24Hr  100 non-null    float64\n",
      " 10  vwap24Hr           100 non-null    float64\n",
      " 11  explorer           100 non-null    object \n",
      "dtypes: float64(7), int32(1), object(4)\n",
      "memory usage: 9.1+ KB\n"
     ]
    }
   ],
   "source": [
    "data.info()"
   ]
  },
  {
   "cell_type": "markdown",
   "id": "7dfc3647-f9b9-4603-a080-956fedc2f9fe",
   "metadata": {},
   "source": [
    "### Step 4: dealing with missing data"
   ]
  },
  {
   "cell_type": "code",
   "execution_count": 61,
   "id": "6335c09c-2910-4b79-a6ab-a5e93635ec27",
   "metadata": {},
   "outputs": [
    {
     "name": "stdout",
     "output_type": "stream",
     "text": [
      "<class 'pandas.core.frame.DataFrame'>\n",
      "RangeIndex: 100 entries, 0 to 99\n",
      "Data columns (total 12 columns):\n",
      " #   Column             Non-Null Count  Dtype  \n",
      "---  ------             --------------  -----  \n",
      " 0   id                 100 non-null    object \n",
      " 1   rank               100 non-null    int32  \n",
      " 2   symbol             100 non-null    object \n",
      " 3   name               100 non-null    object \n",
      " 4   supply             100 non-null    float64\n",
      " 5   maxSupply          100 non-null    float64\n",
      " 6   marketCapUsd       100 non-null    float64\n",
      " 7   volumeUsd24Hr      100 non-null    float64\n",
      " 8   priceUsd           100 non-null    float64\n",
      " 9   changePercent24Hr  100 non-null    float64\n",
      " 10  vwap24Hr           100 non-null    float64\n",
      " 11  explorer           100 non-null    object \n",
      "dtypes: float64(7), int32(1), object(4)\n",
      "memory usage: 9.1+ KB\n"
     ]
    }
   ],
   "source": [
    "data[\"maxSupply\"] = data[\"maxSupply\"].fillna(0)\n",
    "data[\"explorer\"] = data[\"explorer\"].fillna('not available')\n",
    "data.info()"
   ]
  },
  {
   "cell_type": "markdown",
   "id": "ab7e1d76-8991-4f99-9cc9-2b28ec97193e",
   "metadata": {},
   "source": [
    "### Step 5: round nember to 2 decimal places"
   ]
  },
  {
   "cell_type": "code",
   "execution_count": 63,
   "id": "6aaf57c4-a604-4f82-ba5b-ce536e9307ed",
   "metadata": {},
   "outputs": [],
   "source": [
    "def round_to_two_decimal_places(number):\n",
    "    return round(number, 2)"
   ]
  },
  {
   "cell_type": "code",
   "execution_count": 67,
   "id": "fc81a4c6-c514-4bc4-bf42-87a36ea33a5e",
   "metadata": {},
   "outputs": [
    {
     "name": "stderr",
     "output_type": "stream",
     "text": [
      "C:\\Users\\MariyaAlMahrouqi\\AppData\\Local\\Temp\\ipykernel_21312\\1892541769.py:2: FutureWarning: DataFrame.applymap has been deprecated. Use DataFrame.map instead.\n",
      "  data[selected_columns] = data[selected_columns].applymap(round_to_two_decimal_places)\n"
     ]
    },
    {
     "data": {
      "text/html": [
       "<div>\n",
       "<style scoped>\n",
       "    .dataframe tbody tr th:only-of-type {\n",
       "        vertical-align: middle;\n",
       "    }\n",
       "\n",
       "    .dataframe tbody tr th {\n",
       "        vertical-align: top;\n",
       "    }\n",
       "\n",
       "    .dataframe thead th {\n",
       "        text-align: right;\n",
       "    }\n",
       "</style>\n",
       "<table border=\"1\" class=\"dataframe\">\n",
       "  <thead>\n",
       "    <tr style=\"text-align: right;\">\n",
       "      <th></th>\n",
       "      <th>id</th>\n",
       "      <th>rank</th>\n",
       "      <th>symbol</th>\n",
       "      <th>name</th>\n",
       "      <th>supply</th>\n",
       "      <th>maxSupply</th>\n",
       "      <th>marketCapUsd</th>\n",
       "      <th>volumeUsd24Hr</th>\n",
       "      <th>priceUsd</th>\n",
       "      <th>changePercent24Hr</th>\n",
       "      <th>vwap24Hr</th>\n",
       "      <th>explorer</th>\n",
       "    </tr>\n",
       "  </thead>\n",
       "  <tbody>\n",
       "    <tr>\n",
       "      <th>0</th>\n",
       "      <td>bitcoin</td>\n",
       "      <td>1</td>\n",
       "      <td>BTC</td>\n",
       "      <td>Bitcoin</td>\n",
       "      <td>1.978979e+07</td>\n",
       "      <td>21000000.0</td>\n",
       "      <td>1.918108e+12</td>\n",
       "      <td>8.088559e+09</td>\n",
       "      <td>96924.10</td>\n",
       "      <td>-0.03</td>\n",
       "      <td>96521.71</td>\n",
       "      <td>https://blockchain.info/</td>\n",
       "    </tr>\n",
       "    <tr>\n",
       "      <th>1</th>\n",
       "      <td>ethereum</td>\n",
       "      <td>2</td>\n",
       "      <td>ETH</td>\n",
       "      <td>Ethereum</td>\n",
       "      <td>1.204410e+08</td>\n",
       "      <td>0.0</td>\n",
       "      <td>4.473581e+11</td>\n",
       "      <td>8.769765e+09</td>\n",
       "      <td>3714.33</td>\n",
       "      <td>0.24</td>\n",
       "      <td>3690.15</td>\n",
       "      <td>https://etherscan.io/</td>\n",
       "    </tr>\n",
       "    <tr>\n",
       "      <th>2</th>\n",
       "      <td>tether</td>\n",
       "      <td>3</td>\n",
       "      <td>USDT</td>\n",
       "      <td>Tether</td>\n",
       "      <td>1.340381e+11</td>\n",
       "      <td>0.0</td>\n",
       "      <td>1.340972e+11</td>\n",
       "      <td>2.895750e+10</td>\n",
       "      <td>1.00</td>\n",
       "      <td>0.04</td>\n",
       "      <td>1.00</td>\n",
       "      <td>https://www.omniexplorer.info/asset/31</td>\n",
       "    </tr>\n",
       "    <tr>\n",
       "      <th>3</th>\n",
       "      <td>solana</td>\n",
       "      <td>4</td>\n",
       "      <td>SOL</td>\n",
       "      <td>Solana</td>\n",
       "      <td>4.751652e+08</td>\n",
       "      <td>0.0</td>\n",
       "      <td>1.124247e+11</td>\n",
       "      <td>9.099987e+08</td>\n",
       "      <td>236.60</td>\n",
       "      <td>-3.40</td>\n",
       "      <td>239.34</td>\n",
       "      <td>https://explorer.solana.com/</td>\n",
       "    </tr>\n",
       "    <tr>\n",
       "      <th>4</th>\n",
       "      <td>binance-coin</td>\n",
       "      <td>5</td>\n",
       "      <td>BNB</td>\n",
       "      <td>BNB</td>\n",
       "      <td>1.668011e+08</td>\n",
       "      <td>166801148.0</td>\n",
       "      <td>1.087202e+11</td>\n",
       "      <td>4.307244e+08</td>\n",
       "      <td>651.80</td>\n",
       "      <td>-2.98</td>\n",
       "      <td>656.59</td>\n",
       "      <td>https://etherscan.io/token/0xB8c77482e45F1F44d...</td>\n",
       "    </tr>\n",
       "  </tbody>\n",
       "</table>\n",
       "</div>"
      ],
      "text/plain": [
       "             id  rank symbol      name        supply    maxSupply  \\\n",
       "0       bitcoin     1    BTC   Bitcoin  1.978979e+07   21000000.0   \n",
       "1      ethereum     2    ETH  Ethereum  1.204410e+08          0.0   \n",
       "2        tether     3   USDT    Tether  1.340381e+11          0.0   \n",
       "3        solana     4    SOL    Solana  4.751652e+08          0.0   \n",
       "4  binance-coin     5    BNB       BNB  1.668011e+08  166801148.0   \n",
       "\n",
       "   marketCapUsd  volumeUsd24Hr  priceUsd  changePercent24Hr  vwap24Hr  \\\n",
       "0  1.918108e+12   8.088559e+09  96924.10              -0.03  96521.71   \n",
       "1  4.473581e+11   8.769765e+09   3714.33               0.24   3690.15   \n",
       "2  1.340972e+11   2.895750e+10      1.00               0.04      1.00   \n",
       "3  1.124247e+11   9.099987e+08    236.60              -3.40    239.34   \n",
       "4  1.087202e+11   4.307244e+08    651.80              -2.98    656.59   \n",
       "\n",
       "                                            explorer  \n",
       "0                           https://blockchain.info/  \n",
       "1                              https://etherscan.io/  \n",
       "2             https://www.omniexplorer.info/asset/31  \n",
       "3                       https://explorer.solana.com/  \n",
       "4  https://etherscan.io/token/0xB8c77482e45F1F44d...  "
      ]
     },
     "execution_count": 67,
     "metadata": {},
     "output_type": "execute_result"
    }
   ],
   "source": [
    "selected_columns = ['supply', 'maxSupply', 'marketCapUsd', 'priceUsd', 'changePercent24Hr', 'vwap24Hr']\n",
    "data[selected_columns] = data[selected_columns].applymap(round_to_two_decimal_places)\n",
    "data.head()"
   ]
  },
  {
   "cell_type": "markdown",
   "id": "6c55487a-7d82-4a78-8f4c-4bfe49a5fb31",
   "metadata": {},
   "source": [
    "### Step 6: Load the data into a Postgress database"
   ]
  },
  {
   "cell_type": "code",
   "execution_count": 70,
   "id": "3f5b2a70-a910-49fe-a6b5-1d9fff309fbe",
   "metadata": {},
   "outputs": [],
   "source": [
    "# database credentials\n",
    "db_username = 'postgres'\n",
    "db_password = ''\n",
    "db_host = 'localhost'\n",
    "db_port = 5432\n",
    "db_name = 'AnalyticsCrypto'"
   ]
  },
  {
   "cell_type": "code",
   "execution_count": 74,
   "id": "6defc073-9426-495f-829b-73419e182a9d",
   "metadata": {},
   "outputs": [],
   "source": [
    "import psycopg2 # for connecting to PostgreSQL database and executing queries\n",
    "from sqlalchemy import create_engine # to effectively manage and reuse database connection"
   ]
  },
  {
   "cell_type": "code",
   "execution_count": 78,
   "id": "2d1f3d0d-a82c-4209-85ba-3d5f1e011106",
   "metadata": {},
   "outputs": [],
   "source": [
    "#establish a connection using SQLAlchemy engine\n",
    "engine = create_engine(f'postgresql://{db_username}:{db_password}@{db_host}:{db_port}/{db_name}')"
   ]
  },
  {
   "cell_type": "code",
   "execution_count": 82,
   "id": "52f985a6-a2c1-43b9-9c34-9a67a2935473",
   "metadata": {},
   "outputs": [],
   "source": [
    "#create a atable name\n",
    "table_name = 'Crypto_data'\n",
    "\n",
    "# load the data into table\n",
    "data.to_sql(table_name, engine, if_exists='replace', index=False)\n",
    "\n",
    "#close the engine connection\n",
    "engine.dispose()"
   ]
  },
  {
   "cell_type": "code",
   "execution_count": null,
   "id": "dff6d691-8206-4269-b20b-36608521cbef",
   "metadata": {},
   "outputs": [],
   "source": []
  }
 ],
 "metadata": {
  "kernelspec": {
   "display_name": "Python 3 (ipykernel)",
   "language": "python",
   "name": "python3"
  },
  "language_info": {
   "codemirror_mode": {
    "name": "ipython",
    "version": 3
   },
   "file_extension": ".py",
   "mimetype": "text/x-python",
   "name": "python",
   "nbconvert_exporter": "python",
   "pygments_lexer": "ipython3",
   "version": "3.12.7"
  }
 },
 "nbformat": 4,
 "nbformat_minor": 5
}
